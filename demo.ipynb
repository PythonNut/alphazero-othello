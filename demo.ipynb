{
  "nbformat": 4,
  "nbformat_minor": 0,
  "metadata": {
    "colab": {
      "name": "demo.ipynb",
      "provenance": []
    },
    "kernelspec": {
      "name": "python3",
      "display_name": "Python 3"
    },
    "accelerator": "GPU"
  },
  "cells": [
    {
      "cell_type": "code",
      "metadata": {
        "id": "WkEb84J7DVYt"
      },
      "source": [
        "!curl -O https://raw.githubusercontent.com/PythonNut/alphazero-othello/main/az.py\n",
        "!curl -O https://raw.githubusercontent.com/PythonNut/alphazero-othello/main/models/iter00046.pt\n",
        "!ls"
      ],
      "execution_count": null,
      "outputs": []
    },
    {
      "cell_type": "code",
      "metadata": {
        "id": "xXaH5Kq1DtWK"
      },
      "source": [
        "import az, torch\n",
        "P = az.PolicyBig().cuda()\n",
        "P.load_state_dict(torch.load(\"iter00046.pt\"))\n",
        "MP = az.MCTSPlayer(P, 0, 0, 3, 500)\n",
        "MP.init()\n",
        "A = az.Arena(MP, az.HumanPlayer())\n",
        "result = A.play(1)\n",
        "if result == -1:\n",
        "  print(\"you win!\")\n",
        "else:\n",
        "  print(\"you lose!\")"
      ],
      "execution_count": null,
      "outputs": []
    }
  ]
}
